{
 "cells": [
  {
   "cell_type": "code",
   "execution_count": 1,
   "metadata": {},
   "outputs": [],
   "source": [
    "import pandas as pd\n",
    "import numpy as np\n",
    "\n",
    "from sklearn.preprocessing import MinMaxScaler, StandardScaler\n",
    "from sklearn.model_selection import train_test_split\n",
    "from keras.models import Sequential\n",
    "from keras.layers import LSTM, Dense, Dropout, SimpleRNN\n",
    "from sklearn.metrics import mean_squared_error\n",
    "from matplotlib import pyplot as plt\n",
    "from keras.callbacks import EarlyStopping\n",
    "from keras.models import load_model\n",
    "\n",
    "from pmdarima import auto_arima\n",
    "\n",
    "\n"
   ]
  },
  {
   "cell_type": "markdown",
   "metadata": {},
   "source": [
    "# Load Data"
   ]
  },
  {
   "cell_type": "code",
   "execution_count": 2,
   "metadata": {},
   "outputs": [
    {
     "data": {
      "text/html": [
       "<div>\n",
       "<style scoped>\n",
       "    .dataframe tbody tr th:only-of-type {\n",
       "        vertical-align: middle;\n",
       "    }\n",
       "\n",
       "    .dataframe tbody tr th {\n",
       "        vertical-align: top;\n",
       "    }\n",
       "\n",
       "    .dataframe thead th {\n",
       "        text-align: right;\n",
       "    }\n",
       "</style>\n",
       "<table border=\"1\" class=\"dataframe\">\n",
       "  <thead>\n",
       "    <tr style=\"text-align: right;\">\n",
       "      <th></th>\n",
       "      <th>price</th>\n",
       "      <th>ActualLoad</th>\n",
       "      <th>weekday</th>\n",
       "      <th>season</th>\n",
       "      <th>period</th>\n",
       "    </tr>\n",
       "    <tr>\n",
       "      <th>date</th>\n",
       "      <th></th>\n",
       "      <th></th>\n",
       "      <th></th>\n",
       "      <th></th>\n",
       "      <th></th>\n",
       "    </tr>\n",
       "  </thead>\n",
       "  <tbody>\n",
       "    <tr>\n",
       "      <th>2020-01-01 00:00:00</th>\n",
       "      <td>38.60</td>\n",
       "      <td>8700.50</td>\n",
       "      <td>Wednesday</td>\n",
       "      <td>winter</td>\n",
       "      <td>night</td>\n",
       "    </tr>\n",
       "    <tr>\n",
       "      <th>2020-01-01 01:00:00</th>\n",
       "      <td>36.55</td>\n",
       "      <td>8320.25</td>\n",
       "      <td>Wednesday</td>\n",
       "      <td>winter</td>\n",
       "      <td>night</td>\n",
       "    </tr>\n",
       "    <tr>\n",
       "      <th>2020-01-01 02:00:00</th>\n",
       "      <td>32.32</td>\n",
       "      <td>8000.75</td>\n",
       "      <td>Wednesday</td>\n",
       "      <td>winter</td>\n",
       "      <td>night</td>\n",
       "    </tr>\n",
       "    <tr>\n",
       "      <th>2020-01-01 03:00:00</th>\n",
       "      <td>30.85</td>\n",
       "      <td>7795.50</td>\n",
       "      <td>Wednesday</td>\n",
       "      <td>winter</td>\n",
       "      <td>night</td>\n",
       "    </tr>\n",
       "    <tr>\n",
       "      <th>2020-01-01 04:00:00</th>\n",
       "      <td>30.14</td>\n",
       "      <td>7784.00</td>\n",
       "      <td>Wednesday</td>\n",
       "      <td>winter</td>\n",
       "      <td>night</td>\n",
       "    </tr>\n",
       "    <tr>\n",
       "      <th>...</th>\n",
       "      <td>...</td>\n",
       "      <td>...</td>\n",
       "      <td>...</td>\n",
       "      <td>...</td>\n",
       "      <td>...</td>\n",
       "    </tr>\n",
       "    <tr>\n",
       "      <th>2022-12-31 19:00:00</th>\n",
       "      <td>-32.27</td>\n",
       "      <td>8171.75</td>\n",
       "      <td>Saturday</td>\n",
       "      <td>winter</td>\n",
       "      <td>evening</td>\n",
       "    </tr>\n",
       "    <tr>\n",
       "      <th>2022-12-31 20:00:00</th>\n",
       "      <td>6.20</td>\n",
       "      <td>7846.25</td>\n",
       "      <td>Saturday</td>\n",
       "      <td>winter</td>\n",
       "      <td>evening</td>\n",
       "    </tr>\n",
       "    <tr>\n",
       "      <th>2022-12-31 21:00:00</th>\n",
       "      <td>35.96</td>\n",
       "      <td>7794.00</td>\n",
       "      <td>Saturday</td>\n",
       "      <td>winter</td>\n",
       "      <td>evening</td>\n",
       "    </tr>\n",
       "    <tr>\n",
       "      <th>2022-12-31 22:00:00</th>\n",
       "      <td>36.34</td>\n",
       "      <td>7655.00</td>\n",
       "      <td>Saturday</td>\n",
       "      <td>winter</td>\n",
       "      <td>evening</td>\n",
       "    </tr>\n",
       "    <tr>\n",
       "      <th>2022-12-31 23:00:00</th>\n",
       "      <td>82.02</td>\n",
       "      <td>7378.50</td>\n",
       "      <td>Saturday</td>\n",
       "      <td>winter</td>\n",
       "      <td>evening</td>\n",
       "    </tr>\n",
       "  </tbody>\n",
       "</table>\n",
       "<p>26304 rows × 5 columns</p>\n",
       "</div>"
      ],
      "text/plain": [
       "                     price  ActualLoad    weekday  season   period\n",
       "date                                                              \n",
       "2020-01-01 00:00:00  38.60     8700.50  Wednesday  winter    night\n",
       "2020-01-01 01:00:00  36.55     8320.25  Wednesday  winter    night\n",
       "2020-01-01 02:00:00  32.32     8000.75  Wednesday  winter    night\n",
       "2020-01-01 03:00:00  30.85     7795.50  Wednesday  winter    night\n",
       "2020-01-01 04:00:00  30.14     7784.00  Wednesday  winter    night\n",
       "...                    ...         ...        ...     ...      ...\n",
       "2022-12-31 19:00:00 -32.27     8171.75   Saturday  winter  evening\n",
       "2022-12-31 20:00:00   6.20     7846.25   Saturday  winter  evening\n",
       "2022-12-31 21:00:00  35.96     7794.00   Saturday  winter  evening\n",
       "2022-12-31 22:00:00  36.34     7655.00   Saturday  winter  evening\n",
       "2022-12-31 23:00:00  82.02     7378.50   Saturday  winter  evening\n",
       "\n",
       "[26304 rows x 5 columns]"
      ]
     },
     "execution_count": 2,
     "metadata": {},
     "output_type": "execute_result"
    }
   ],
   "source": [
    "df = pd.read_csv('data/data_be.csv')\n",
    "df['date'] = pd.to_datetime(df['date'])\n",
    "df.index = df['date']\n",
    "df.drop(['date','ForecastLoad'], axis=1, inplace=True)\n",
    "\n",
    "df"
   ]
  },
  {
   "cell_type": "markdown",
   "metadata": {},
   "source": [
    "# Data Preprocessing"
   ]
  },
  {
   "cell_type": "code",
   "execution_count": 3,
   "metadata": {},
   "outputs": [],
   "source": [
    "# One-hot encoding\n",
    "data = pd.get_dummies(df, columns = ['weekday', 'season','period'])"
   ]
  },
  {
   "cell_type": "code",
   "execution_count": 4,
   "metadata": {},
   "outputs": [],
   "source": [
    "# creating window sliding data set for multi step time series prediction\n",
    "def create_dataset(data, target, m, p):\n",
    "    X, Y = [], []\n",
    "    for i in range(len(data)-m-p+1):\n",
    "        #X.append(data[i:i+m])\n",
    "        X.append(data.iloc[i:i+m,target])\n",
    "        Y.append(data.iloc[i+m:i+m+p,target])\n",
    "    return np.array(X), np.array(Y)"
   ]
  },
  {
   "cell_type": "code",
   "execution_count": 6,
   "metadata": {},
   "outputs": [],
   "source": [
    "# scaling the data\n",
    "scaler = MinMaxScaler(feature_range=(0, 1))\n",
    "scaler.fit(data[['price','ActualLoad']])\n",
    "scaler_y = MinMaxScaler()\n",
    "scaler_y.fit(data['price'].values.reshape(-1,1))\n",
    "data_scaled = data.copy()\n",
    "data_scaled[['price','ActualLoad']] = scaler.transform(data[['price','ActualLoad']])\n",
    "\n",
    "# Create input-output pairs for the LSTM model\n",
    "m = 1440 # Number of past observations to use\n",
    "p = 24  # Number of future observations to predict\n",
    "indices = data_scaled[m:len(data_scaled)-p+1].index\n",
    "#X, y = create_dataset(data_scaled,0,m,p)\n",
    "X, y = create_dataset(data,0,m,p)\n",
    "# Split the data into training and testing sets\n",
    "X_train, X_test, y_train, y_test, idx_train, idx_test= train_test_split(X,y, indices, test_size=0.005,random_state=42)\n"
   ]
  },
  {
   "cell_type": "code",
   "execution_count": 7,
   "metadata": {},
   "outputs": [
    {
     "name": "stdout",
     "output_type": "stream",
     "text": [
      "(24716, 1440)\n",
      "(125, 1440)\n",
      "(24716, 24)\n",
      "(125, 24)\n",
      "(24716,)\n",
      "(125,)\n"
     ]
    }
   ],
   "source": [
    "print(X_train.shape)\n",
    "print(X_test.shape)\n",
    "print(y_train.shape)\n",
    "print(y_test.shape)\n",
    "print(idx_train.shape)\n",
    "print(idx_test.shape)"
   ]
  },
  {
   "cell_type": "markdown",
   "metadata": {},
   "source": [
    "# Train ARIMA and SARIMA"
   ]
  },
  {
   "cell_type": "code",
   "execution_count": 9,
   "metadata": {},
   "outputs": [],
   "source": [
    "def train_sarima(train,test,season,m,p):\n",
    "    stepwise_model = auto_arima(train, start_p=2, start_q=2,\n",
    "                           max_p=5, max_q=5, m=m,\n",
    "                           seasonal=season,\n",
    "                           error_action='ignore',  \n",
    "                           suppress_warnings=True, \n",
    "                           stepwise=True)\n",
    "    \n",
    "    stepwise_model.fit(train)\n",
    "    pred = stepwise_model.predict(n_periods=p)\n",
    "\n",
    "    mae = np.mean(np.abs(pred-test))\n",
    "    mse = mean_squared_error(pred, test)\n",
    "\n",
    "    return mae, mse\n"
   ]
  },
  {
   "cell_type": "code",
   "execution_count": 10,
   "metadata": {},
   "outputs": [
    {
     "name": "stdout",
     "output_type": "stream",
     "text": [
      "0\n",
      "10\n"
     ]
    }
   ],
   "source": [
    "sum_mae = []\n",
    "sum_mse = []\n",
    "for i in range(len(X_test)):\n",
    "    if i % 10 == 0:\n",
    "        print(i)\n",
    "    mae, mse = train_sarima(X_test[i],y_test[i],True,m=24,p=p)\n",
    "    sum_mae.append(mae)\n",
    "    sum_mse.append(mse)\n",
    "\n",
    "print(np.mean(sum_mae))\n",
    "print(np.sqrt(np.mean(sum_mse)))"
   ]
  },
  {
   "attachments": {},
   "cell_type": "markdown",
   "metadata": {},
   "source": [
    "# Train simple RNNs"
   ]
  },
  {
   "cell_type": "code",
   "execution_count": 8,
   "metadata": {},
   "outputs": [
    {
     "name": "stdout",
     "output_type": "stream",
     "text": [
      "Epoch 1/5\n",
      "311/311 [==============================] - 59s 187ms/step - loss: 0.0166\n",
      "Epoch 2/5\n",
      "311/311 [==============================] - 66s 211ms/step - loss: 0.0024\n",
      "Epoch 3/5\n",
      "311/311 [==============================] - 45s 144ms/step - loss: 0.0021\n",
      "Epoch 4/5\n",
      "311/311 [==============================] - 45s 145ms/step - loss: 0.0020\n",
      "Epoch 5/5\n",
      "311/311 [==============================] - 54s 173ms/step - loss: 0.0019\n"
     ]
    },
    {
     "data": {
      "text/plain": [
       "<keras.callbacks.History at 0x27914002fe0>"
      ]
     },
     "execution_count": 8,
     "metadata": {},
     "output_type": "execute_result"
    }
   ],
   "source": [
    "model = Sequential()\n",
    "model.add(SimpleRNN(p, input_shape=(m, X_train.shape[2])))\n",
    "model.add(Dense(p,activation='relu'))\n",
    "model.add(Dense(p,activation='relu'))\n",
    "model.add(Dense(p))\n",
    "\n",
    "# Compile the model\n",
    "model.compile(optimizer='adam', loss='mse')\n",
    "\n",
    "# Define the EarlyStopping callback\n",
    "early_stopping = EarlyStopping(monitor='loss', patience=3)\n",
    "\n",
    "# Train the model\n",
    "model.fit(X_train, y_train, epochs=5, batch_size=64,callbacks=[early_stopping])\n"
   ]
  },
  {
   "attachments": {},
   "cell_type": "markdown",
   "metadata": {},
   "source": [
    "## Train LSTM"
   ]
  },
  {
   "cell_type": "code",
   "execution_count": 8,
   "metadata": {},
   "outputs": [
    {
     "name": "stdout",
     "output_type": "stream",
     "text": [
      "Epoch 1/3\n",
      "300/300 [==============================] - 8125s 27s/step - loss: 0.0059\n",
      "Epoch 2/3\n",
      "300/300 [==============================] - 72940s 244s/step - loss: 0.0025\n",
      "Epoch 3/3\n",
      "300/300 [==============================] - 12473s 42s/step - loss: 0.0024\n"
     ]
    },
    {
     "data": {
      "text/plain": [
       "<keras.callbacks.History at 0x25a580eff10>"
      ]
     },
     "execution_count": 8,
     "metadata": {},
     "output_type": "execute_result"
    }
   ],
   "source": [
    "# Define the model architecture\n",
    "model = Sequential()\n",
    "model.add(LSTM(p, input_shape=(m, X_train.shape[2])))\n",
    "model.add(Dense(p,activation='relu'))\n",
    "#model.add(Dense(p,activation='relu'))\n",
    "\n",
    "model.add(Dense(p))\n",
    "\n",
    "# Compile the model\n",
    "model.compile(optimizer='adam', loss='mse')\n",
    "\n",
    "# Define the EarlyStopping callback\n",
    "early_stopping = EarlyStopping(monitor='loss', patience=3)\n",
    "\n",
    "# Train the model\n",
    "model.fit(X_train, y_train, epochs=3, batch_size=64,callbacks=[early_stopping])\n",
    "\n"
   ]
  },
  {
   "attachments": {},
   "cell_type": "markdown",
   "metadata": {},
   "source": [
    "## Predict and evaluation"
   ]
  },
  {
   "cell_type": "code",
   "execution_count": 9,
   "metadata": {},
   "outputs": [
    {
     "name": "stdout",
     "output_type": "stream",
     "text": [
      "156/156 [==============================] - 5s 33ms/step\n"
     ]
    }
   ],
   "source": [
    "y_pred = model.predict(X_test)\n",
    "y_pred = scaler_y.inverse_transform(y_pred)\n",
    "y_test = scaler_y.inverse_transform(y_test)\n"
   ]
  },
  {
   "cell_type": "code",
   "execution_count": 11,
   "metadata": {},
   "outputs": [
    {
     "name": "stdout",
     "output_type": "stream",
     "text": [
      "13.34034484863281\n"
     ]
    },
    {
     "data": {
      "image/png": "[encoded data removed]",
      "text/plain": [
       "<Figure size 640x480 with 1 Axes>"
      ]
     },
     "metadata": {},
     "output_type": "display_data"
    }
   ],
   "source": [
    "n = 200\n",
    "print(np.mean(np.abs(y_test[n] - y_pred[n])))\n",
    "plt.plot(y_pred[n],label='pred')\n",
    "plt.plot(y_test[n],label = 'true')\n",
    "plt.legend()\n",
    "plt.show()"
   ]
  },
  {
   "cell_type": "code",
   "execution_count": 12,
   "metadata": {},
   "outputs": [
    {
     "name": "stdout",
     "output_type": "stream",
     "text": [
      "20.246915082861527\n",
      "24.376275531193187\n",
      "1.661541058025674\n"
     ]
    },
    {
     "data": {
      "text/plain": [
       "[<matplotlib.lines.Line2D at 0x2791a1a71c0>]"
      ]
     },
     "execution_count": 12,
     "metadata": {},
     "output_type": "execute_result"
    },
    {
     "data": {
      "image/png": "[encoded data removed]",
      "text/plain": [
       "<Figure size 640x480 with 1 Axes>"
      ]
     },
     "metadata": {},
     "output_type": "display_data"
    }
   ],
   "source": [
    "# Model Evaluation\n",
    "mae = []\n",
    "rmse = []\n",
    "mase = []\n",
    "naives = []\n",
    "#test_index = test_data.index[1440:len(test_data)-24+1]\n",
    "for i in range(y_test.shape[0]):\n",
    "    mae.append(np.mean(np.abs(y_test[i] - y_pred[i])))\n",
    "    rmse.append(np.sqrt(mean_squared_error(y_test[i],y_pred[i])))\n",
    "    pred_naive = scaler_y.inverse_transform(X_test[i][:,0].reshape(-1,1)).flatten()[-p:]\n",
    "    naive = np.mean(np.abs(y_test[i]-pred_naive))\n",
    "    mase.append(np.mean(np.abs(y_test[i] - y_pred[i]))/naive )\n",
    "    naives.append(naive)\n",
    "    \n",
    "print(np.mean(mae))\n",
    "print(np.mean(rmse))\n",
    "print(np.mean(mase))\n",
    "test_mae = pd.DataFrame({'time':idx_test,'mae':mae})\n",
    "test_mae.index = test_mae['time']\n",
    "test_mae.drop(['time'],inplace=True,axis=1)\n",
    "test_mae.sort_index(inplace=True)\n",
    "plt.plot(test_mae)"
   ]
  }
 ],
 "metadata": {
  "kernelspec": {
   "display_name": "Python 3",
   "language": "python",
   "name": "python3"
  },
  "language_info": {
   "codemirror_mode": {
    "name": "ipython",
    "version": 3
   },
   "file_extension": ".py",
   "mimetype": "text/x-python",
   "name": "python",
   "nbconvert_exporter": "python",
   "pygments_lexer": "ipython3",
   "version": "3.11.4"
  },
  "orig_nbformat": 4,
  "vscode": {
   "interpreter": {
    "hash": "a4df7a6600e22bae99e6e8f837be5af686fd7a404512ca9c2620376f38fe7d31"
   }
  }
 },
 "nbformat": 4,
 "nbformat_minor": 2
}
